{
 "cells": [
  {
   "cell_type": "markdown",
   "metadata": {},
   "source": [
    "#### Import necessary libraries"
   ]
  },
  {
   "cell_type": "code",
   "execution_count": 1,
   "metadata": {},
   "outputs": [
    {
     "name": "stderr",
     "output_type": "stream",
     "text": [
      "Using TensorFlow backend.\n"
     ]
    }
   ],
   "source": [
    "import numpy as np\n",
    "import pandas as pd\n",
    "from sklearn.preprocessing import MinMaxScaler\n",
    "from keras.models import Sequential\n",
    "from keras.layers import Dense, Dropout, LSTM, Bidirectional, Conv1D\n",
    "import matplotlib.pyplot as plt\n",
    "%matplotlib inline"
   ]
  },
  {
   "cell_type": "markdown",
   "metadata": {},
   "source": [
    "#### Read csv and select the stock for which you wanna predict future price"
   ]
  },
  {
   "cell_type": "code",
   "execution_count": 2,
   "metadata": {},
   "outputs": [
    {
     "data": {
      "text/html": [
       "<div>\n",
       "<style scoped>\n",
       "    .dataframe tbody tr th:only-of-type {\n",
       "        vertical-align: middle;\n",
       "    }\n",
       "\n",
       "    .dataframe tbody tr th {\n",
       "        vertical-align: top;\n",
       "    }\n",
       "\n",
       "    .dataframe thead th {\n",
       "        text-align: right;\n",
       "    }\n",
       "</style>\n",
       "<table border=\"1\" class=\"dataframe\">\n",
       "  <thead>\n",
       "    <tr style=\"text-align: right;\">\n",
       "      <th></th>\n",
       "      <th>date</th>\n",
       "      <th>symbol</th>\n",
       "      <th>open</th>\n",
       "      <th>close</th>\n",
       "      <th>low</th>\n",
       "      <th>high</th>\n",
       "      <th>volume</th>\n",
       "    </tr>\n",
       "  </thead>\n",
       "  <tbody>\n",
       "    <tr>\n",
       "      <td>448</td>\n",
       "      <td>2010-01-04</td>\n",
       "      <td>HAL</td>\n",
       "      <td>30.719999</td>\n",
       "      <td>31.250000</td>\n",
       "      <td>30.660000</td>\n",
       "      <td>31.340000</td>\n",
       "      <td>11571600.0</td>\n",
       "    </tr>\n",
       "    <tr>\n",
       "      <td>916</td>\n",
       "      <td>2010-01-05</td>\n",
       "      <td>HAL</td>\n",
       "      <td>31.280001</td>\n",
       "      <td>31.650000</td>\n",
       "      <td>30.990000</td>\n",
       "      <td>31.830000</td>\n",
       "      <td>18989700.0</td>\n",
       "    </tr>\n",
       "    <tr>\n",
       "      <td>1384</td>\n",
       "      <td>2010-01-06</td>\n",
       "      <td>HAL</td>\n",
       "      <td>31.740000</td>\n",
       "      <td>32.400002</td>\n",
       "      <td>31.639999</td>\n",
       "      <td>32.590000</td>\n",
       "      <td>15720800.0</td>\n",
       "    </tr>\n",
       "    <tr>\n",
       "      <td>1852</td>\n",
       "      <td>2010-01-07</td>\n",
       "      <td>HAL</td>\n",
       "      <td>32.310001</td>\n",
       "      <td>32.480000</td>\n",
       "      <td>31.920000</td>\n",
       "      <td>32.520000</td>\n",
       "      <td>8993100.0</td>\n",
       "    </tr>\n",
       "    <tr>\n",
       "      <td>2320</td>\n",
       "      <td>2010-01-08</td>\n",
       "      <td>HAL</td>\n",
       "      <td>32.950001</td>\n",
       "      <td>34.119999</td>\n",
       "      <td>32.490002</td>\n",
       "      <td>34.139999</td>\n",
       "      <td>23014600.0</td>\n",
       "    </tr>\n",
       "    <tr>\n",
       "      <td>...</td>\n",
       "      <td>...</td>\n",
       "      <td>...</td>\n",
       "      <td>...</td>\n",
       "      <td>...</td>\n",
       "      <td>...</td>\n",
       "      <td>...</td>\n",
       "      <td>...</td>\n",
       "    </tr>\n",
       "    <tr>\n",
       "      <td>848972</td>\n",
       "      <td>2016-12-23</td>\n",
       "      <td>HAL</td>\n",
       "      <td>55.040001</td>\n",
       "      <td>54.840000</td>\n",
       "      <td>54.630001</td>\n",
       "      <td>55.259998</td>\n",
       "      <td>3161500.0</td>\n",
       "    </tr>\n",
       "    <tr>\n",
       "      <td>849472</td>\n",
       "      <td>2016-12-27</td>\n",
       "      <td>HAL</td>\n",
       "      <td>55.020000</td>\n",
       "      <td>54.910000</td>\n",
       "      <td>54.700001</td>\n",
       "      <td>55.540001</td>\n",
       "      <td>3608700.0</td>\n",
       "    </tr>\n",
       "    <tr>\n",
       "      <td>849972</td>\n",
       "      <td>2016-12-28</td>\n",
       "      <td>HAL</td>\n",
       "      <td>55.110001</td>\n",
       "      <td>54.299999</td>\n",
       "      <td>54.180000</td>\n",
       "      <td>55.220001</td>\n",
       "      <td>4759700.0</td>\n",
       "    </tr>\n",
       "    <tr>\n",
       "      <td>850472</td>\n",
       "      <td>2016-12-29</td>\n",
       "      <td>HAL</td>\n",
       "      <td>54.139999</td>\n",
       "      <td>54.040001</td>\n",
       "      <td>53.840000</td>\n",
       "      <td>54.459999</td>\n",
       "      <td>4216800.0</td>\n",
       "    </tr>\n",
       "    <tr>\n",
       "      <td>850972</td>\n",
       "      <td>2016-12-30</td>\n",
       "      <td>HAL</td>\n",
       "      <td>54.029999</td>\n",
       "      <td>54.090000</td>\n",
       "      <td>53.610001</td>\n",
       "      <td>54.360001</td>\n",
       "      <td>4638300.0</td>\n",
       "    </tr>\n",
       "  </tbody>\n",
       "</table>\n",
       "<p>1762 rows × 7 columns</p>\n",
       "</div>"
      ],
      "text/plain": [
       "              date symbol       open      close        low       high  \\\n",
       "448     2010-01-04    HAL  30.719999  31.250000  30.660000  31.340000   \n",
       "916     2010-01-05    HAL  31.280001  31.650000  30.990000  31.830000   \n",
       "1384    2010-01-06    HAL  31.740000  32.400002  31.639999  32.590000   \n",
       "1852    2010-01-07    HAL  32.310001  32.480000  31.920000  32.520000   \n",
       "2320    2010-01-08    HAL  32.950001  34.119999  32.490002  34.139999   \n",
       "...            ...    ...        ...        ...        ...        ...   \n",
       "848972  2016-12-23    HAL  55.040001  54.840000  54.630001  55.259998   \n",
       "849472  2016-12-27    HAL  55.020000  54.910000  54.700001  55.540001   \n",
       "849972  2016-12-28    HAL  55.110001  54.299999  54.180000  55.220001   \n",
       "850472  2016-12-29    HAL  54.139999  54.040001  53.840000  54.459999   \n",
       "850972  2016-12-30    HAL  54.029999  54.090000  53.610001  54.360001   \n",
       "\n",
       "            volume  \n",
       "448     11571600.0  \n",
       "916     18989700.0  \n",
       "1384    15720800.0  \n",
       "1852     8993100.0  \n",
       "2320    23014600.0  \n",
       "...            ...  \n",
       "848972   3161500.0  \n",
       "849472   3608700.0  \n",
       "849972   4759700.0  \n",
       "850472   4216800.0  \n",
       "850972   4638300.0  \n",
       "\n",
       "[1762 rows x 7 columns]"
      ]
     },
     "execution_count": 2,
     "metadata": {},
     "output_type": "execute_result"
    }
   ],
   "source": [
    "df = pd.read_csv('prices-split-adjusted.csv')\n",
    "pg = df[df['symbol'] == 'HAL']  ## change 'HAL' with your choice of stock \n",
    "pg"
   ]
  },
  {
   "cell_type": "code",
   "execution_count": 3,
   "metadata": {},
   "outputs": [
    {
     "name": "stderr",
     "output_type": "stream",
     "text": [
      "/Users/subhamgupta/anaconda3/lib/python3.7/site-packages/pandas/core/frame.py:4102: SettingWithCopyWarning: \n",
      "A value is trying to be set on a copy of a slice from a DataFrame\n",
      "\n",
      "See the caveats in the documentation: http://pandas.pydata.org/pandas-docs/stable/user_guide/indexing.html#returning-a-view-versus-a-copy\n",
      "  errors=errors,\n"
     ]
    }
   ],
   "source": [
    "pg.drop('symbol', axis = 1,  inplace=True)\n",
    "pg.drop('open', axis = 1,  inplace=True)\n",
    "pg.drop('low', axis = 1,  inplace=True)\n",
    "pg.drop('high', axis = 1,  inplace=True)\n",
    "pg.drop('volume', axis = 1,  inplace=True)\n",
    "pg.drop('date', axis = 1,  inplace=True)"
   ]
  },
  {
   "cell_type": "markdown",
   "metadata": {},
   "source": [
    "#### At this point we can include different technical indicators like moving averages, bollinger bands, RSI etc, but I found that raw data worked out the best with least RMS \n",
    "\n",
    "### I have included \"Exponential Moving Average\" in another code, you can check it out there"
   ]
  },
  {
   "cell_type": "code",
   "execution_count": 4,
   "metadata": {},
   "outputs": [
    {
     "data": {
      "text/plain": [
       "[<matplotlib.lines.Line2D at 0x10c999cd0>]"
      ]
     },
     "execution_count": 4,
     "metadata": {},
     "output_type": "execute_result"
    },
    {
     "data": {
      "image/png": "[encoded data removed]",
      "text/plain": [
       "<Figure size 1152x576 with 1 Axes>"
      ]
     },
     "metadata": {
      "needs_background": "light"
     },
     "output_type": "display_data"
    }
   ],
   "source": [
    "plt.figure(figsize=(16,8))\n",
    "plt.plot(pg['close'], label='Close Price history')"
   ]
  },
  {
   "cell_type": "code",
   "execution_count": 5,
   "metadata": {},
   "outputs": [],
   "source": [
    "dataset = pg.values\n",
    "train = dataset[0:1500,:]\n",
    "valid = dataset[1500:,:]"
   ]
  },
  {
   "cell_type": "code",
   "execution_count": 6,
   "metadata": {},
   "outputs": [],
   "source": [
    "scaler = MinMaxScaler(feature_range=(0, 1)) # Normalize the data\n",
    "scaled_data = scaler.fit_transform(dataset)"
   ]
  },
  {
   "cell_type": "markdown",
   "metadata": {},
   "source": [
    "#### Now we set our training data, I will feed the data of last 60 days to predict the new price, you can try your version of code with any other choice for number of days.\n",
    "\n",
    "#### If you increase the number of days the network will take longer time to learn.\n",
    "\n",
    "#### I've tried 30 days, 60 days and 90 days, and I have noticed that the rms(root mean square) error do not decrease significantly after 60 days."
   ]
  },
  {
   "cell_type": "code",
   "execution_count": 7,
   "metadata": {},
   "outputs": [],
   "source": [
    "x_train, y_train = [], []\n",
    "for i in range(60,len(train)):\n",
    "    x_train.append(scaled_data[i-60:i,0])\n",
    "    y_train.append(scaled_data[i,0])\n",
    "x_train, y_train = np.array(x_train), np.array(y_train)\n",
    "x_train = np.reshape(x_train, (x_train.shape[0],x_train.shape[1],1))"
   ]
  },
  {
   "cell_type": "markdown",
   "metadata": {},
   "source": [
    "#### The model, 2 dense layers with activation function 'tanh', a Convolutional 1D layer and a Bidirectional LSTM and finally and output layer. \n",
    "\n",
    "#### I tried varying the number of layers from single LSTM layer to upto 4 dense layer with different number of nodes in each layer, activation functions like 'relu', 'tanh', 'sigmoid' and their combinations, and found that the following model works the best.\n",
    "\n",
    "#### I also tried dropout in hope to improve the results but it doesn't work out as I expected. "
   ]
  },
  {
   "cell_type": "code",
   "execution_count": 9,
   "metadata": {},
   "outputs": [],
   "source": [
    "model = Sequential()\n",
    "model.add(Dense(20,activation='tanh'))\n",
    "model.add(Dense(10,activation='tanh'))\n",
    "model.add(Conv1D(filters=32, kernel_size=3,strides=1, padding=\"causal\", activation=\"relu\", input_shape=[None, 1]))\n",
    "model.add(Bidirectional(LSTM(units=32)))\n",
    "model.add(Dense(1))"
   ]
  },
  {
   "cell_type": "markdown",
   "metadata": {},
   "source": [
    "#### I tried various optimizers, epoch number and batch size.\n",
    "\n",
    "#### Adam works very good and fast, loss after 100 epochs never reduced significantly."
   ]
  },
  {
   "cell_type": "code",
   "execution_count": 10,
   "metadata": {
    "scrolled": true
   },
   "outputs": [
    {
     "name": "stdout",
     "output_type": "stream",
     "text": [
      "Train on 1224 samples, validate on 216 samples\n",
      "Epoch 1/100\n",
      "1224/1224 [==============================] - 6s 5ms/step - loss: 0.0762 - mae: 0.2096 - val_loss: 0.0429 - val_mae: 0.1981\n",
      "Epoch 2/100\n",
      "1224/1224 [==============================] - 2s 1ms/step - loss: 0.0220 - mae: 0.1201 - val_loss: 0.0041 - val_mae: 0.0506\n",
      "Epoch 3/100\n",
      "1224/1224 [==============================] - 2s 2ms/step - loss: 0.0147 - mae: 0.0930 - val_loss: 0.0042 - val_mae: 0.0528\n",
      "Epoch 4/100\n",
      "1224/1224 [==============================] - 2s 1ms/step - loss: 0.0094 - mae: 0.0745 - val_loss: 0.0048 - val_mae: 0.0560\n",
      "Epoch 5/100\n",
      "1224/1224 [==============================] - 2s 2ms/step - loss: 0.0069 - mae: 0.0641 - val_loss: 0.0026 - val_mae: 0.0399\n",
      "Epoch 6/100\n",
      "1224/1224 [==============================] - 2s 2ms/step - loss: 0.0053 - mae: 0.0520 - val_loss: 0.0020 - val_mae: 0.0343\n",
      "Epoch 7/100\n",
      "1224/1224 [==============================] - 2s 2ms/step - loss: 0.0042 - mae: 0.0496 - val_loss: 0.0020 - val_mae: 0.0345\n",
      "Epoch 8/100\n",
      "1224/1224 [==============================] - 2s 2ms/step - loss: 0.0035 - mae: 0.0424 - val_loss: 0.0013 - val_mae: 0.0277\n",
      "Epoch 9/100\n",
      "1224/1224 [==============================] - 2s 2ms/step - loss: 0.0030 - mae: 0.0400 - val_loss: 0.0014 - val_mae: 0.0277\n",
      "Epoch 10/100\n",
      "1224/1224 [==============================] - 3s 2ms/step - loss: 0.0024 - mae: 0.0355 - val_loss: 0.0012 - val_mae: 0.0256\n",
      "Epoch 11/100\n",
      "1224/1224 [==============================] - 2s 2ms/step - loss: 0.0019 - mae: 0.0311 - val_loss: 8.4652e-04 - val_mae: 0.0213\n",
      "Epoch 12/100\n",
      "1224/1224 [==============================] - 2s 2ms/step - loss: 0.0015 - mae: 0.0284 - val_loss: 7.3514e-04 - val_mae: 0.0202\n",
      "Epoch 13/100\n",
      "1224/1224 [==============================] - 2s 2ms/step - loss: 0.0012 - mae: 0.0257 - val_loss: 7.1873e-04 - val_mae: 0.0201\n",
      "Epoch 14/100\n",
      "1224/1224 [==============================] - 2s 2ms/step - loss: 0.0011 - mae: 0.0247 - val_loss: 7.0930e-04 - val_mae: 0.0201\n",
      "Epoch 15/100\n",
      "1224/1224 [==============================] - 2s 2ms/step - loss: 0.0011 - mae: 0.0241 - val_loss: 6.9181e-04 - val_mae: 0.0198\n",
      "Epoch 16/100\n",
      "1224/1224 [==============================] - 2s 2ms/step - loss: 0.0010 - mae: 0.0237 - val_loss: 7.0350e-04 - val_mae: 0.0200\n",
      "Epoch 17/100\n",
      "1224/1224 [==============================] - 2s 2ms/step - loss: 0.0010 - mae: 0.0235 - val_loss: 6.7866e-04 - val_mae: 0.0195\n",
      "Epoch 18/100\n",
      "1224/1224 [==============================] - 2s 2ms/step - loss: 9.9960e-04 - mae: 0.0235 - val_loss: 6.8061e-04 - val_mae: 0.0196\n",
      "Epoch 19/100\n",
      "1224/1224 [==============================] - 2s 2ms/step - loss: 9.7239e-04 - mae: 0.0231 - val_loss: 6.6669e-04 - val_mae: 0.0192\n",
      "Epoch 20/100\n",
      "1224/1224 [==============================] - 2s 2ms/step - loss: 9.5080e-04 - mae: 0.0229 - val_loss: 6.5911e-04 - val_mae: 0.0192\n",
      "Epoch 21/100\n",
      "1224/1224 [==============================] - 2s 2ms/step - loss: 9.4369e-04 - mae: 0.0228 - val_loss: 6.3919e-04 - val_mae: 0.0187\n",
      "Epoch 22/100\n",
      "1224/1224 [==============================] - 2s 2ms/step - loss: 9.0943e-04 - mae: 0.0224 - val_loss: 6.3315e-04 - val_mae: 0.0187\n",
      "Epoch 23/100\n",
      "1224/1224 [==============================] - 2s 2ms/step - loss: 8.9614e-04 - mae: 0.0221 - val_loss: 6.1544e-04 - val_mae: 0.0181\n",
      "Epoch 24/100\n",
      "1224/1224 [==============================] - 2s 2ms/step - loss: 9.2688e-04 - mae: 0.0227 - val_loss: 6.2497e-04 - val_mae: 0.0183\n",
      "Epoch 25/100\n",
      "1224/1224 [==============================] - 2s 2ms/step - loss: 8.7860e-04 - mae: 0.0220 - val_loss: 5.9852e-04 - val_mae: 0.0178\n",
      "Epoch 26/100\n",
      "1224/1224 [==============================] - 2s 2ms/step - loss: 8.4270e-04 - mae: 0.0214 - val_loss: 5.8296e-04 - val_mae: 0.0176\n",
      "Epoch 27/100\n",
      "1224/1224 [==============================] - 2s 2ms/step - loss: 8.0542e-04 - mae: 0.0210 - val_loss: 6.6539e-04 - val_mae: 0.0197\n",
      "Epoch 28/100\n",
      "1224/1224 [==============================] - 2s 2ms/step - loss: 8.3675e-04 - mae: 0.0212 - val_loss: 5.6901e-04 - val_mae: 0.0177\n",
      "Epoch 29/100\n",
      "1224/1224 [==============================] - 2s 2ms/step - loss: 7.9643e-04 - mae: 0.0208 - val_loss: 5.5686e-04 - val_mae: 0.0174\n",
      "Epoch 30/100\n",
      "1224/1224 [==============================] - 2s 2ms/step - loss: 8.0606e-04 - mae: 0.0212 - val_loss: 5.4416e-04 - val_mae: 0.0171\n",
      "Epoch 31/100\n",
      "1224/1224 [==============================] - 2s 2ms/step - loss: 7.5184e-04 - mae: 0.0204 - val_loss: 5.5227e-04 - val_mae: 0.0174\n",
      "Epoch 32/100\n",
      "1224/1224 [==============================] - 2s 2ms/step - loss: 7.3076e-04 - mae: 0.0200 - val_loss: 5.3985e-04 - val_mae: 0.0172\n",
      "Epoch 33/100\n",
      "1224/1224 [==============================] - 2s 2ms/step - loss: 7.1500e-04 - mae: 0.0197 - val_loss: 5.3769e-04 - val_mae: 0.0172\n",
      "Epoch 34/100\n",
      "1224/1224 [==============================] - 2s 2ms/step - loss: 6.8632e-04 - mae: 0.0194 - val_loss: 5.1418e-04 - val_mae: 0.0167\n",
      "Epoch 35/100\n",
      "1224/1224 [==============================] - 2s 2ms/step - loss: 6.8307e-04 - mae: 0.0193 - val_loss: 5.0496e-04 - val_mae: 0.0164\n",
      "Epoch 36/100\n",
      "1224/1224 [==============================] - 2s 2ms/step - loss: 6.6671e-04 - mae: 0.0192 - val_loss: 5.5590e-04 - val_mae: 0.0178\n",
      "Epoch 37/100\n",
      "1224/1224 [==============================] - 2s 2ms/step - loss: 6.5647e-04 - mae: 0.0189 - val_loss: 5.5993e-04 - val_mae: 0.0181\n",
      "Epoch 38/100\n",
      "1224/1224 [==============================] - 2s 2ms/step - loss: 6.3846e-04 - mae: 0.0188 - val_loss: 5.2717e-04 - val_mae: 0.0173\n",
      "Epoch 39/100\n",
      "1224/1224 [==============================] - 2s 2ms/step - loss: 6.1921e-04 - mae: 0.0184 - val_loss: 4.7917e-04 - val_mae: 0.0162\n",
      "Epoch 40/100\n",
      "1224/1224 [==============================] - 2s 2ms/step - loss: 6.0033e-04 - mae: 0.0181 - val_loss: 4.5857e-04 - val_mae: 0.0157\n",
      "Epoch 41/100\n",
      "1224/1224 [==============================] - 2s 2ms/step - loss: 5.9258e-04 - mae: 0.0180 - val_loss: 4.5166e-04 - val_mae: 0.0158\n",
      "Epoch 42/100\n",
      "1224/1224 [==============================] - 2s 2ms/step - loss: 5.7479e-04 - mae: 0.0178 - val_loss: 4.4130e-04 - val_mae: 0.0154\n",
      "Epoch 43/100\n",
      "1224/1224 [==============================] - 2s 2ms/step - loss: 5.7201e-04 - mae: 0.0177 - val_loss: 4.3383e-04 - val_mae: 0.0154\n",
      "Epoch 44/100\n",
      "1224/1224 [==============================] - 2s 2ms/step - loss: 5.4508e-04 - mae: 0.0172 - val_loss: 4.3677e-04 - val_mae: 0.0155\n",
      "Epoch 45/100\n",
      "1224/1224 [==============================] - 2s 2ms/step - loss: 5.3911e-04 - mae: 0.0171 - val_loss: 4.1512e-04 - val_mae: 0.0150\n",
      "Epoch 46/100\n",
      "1224/1224 [==============================] - 2s 2ms/step - loss: 5.3795e-04 - mae: 0.0174 - val_loss: 4.5547e-04 - val_mae: 0.0162\n",
      "Epoch 47/100\n",
      "1224/1224 [==============================] - 2s 2ms/step - loss: 5.2128e-04 - mae: 0.0168 - val_loss: 4.2526e-04 - val_mae: 0.0154\n",
      "Epoch 48/100\n",
      "1224/1224 [==============================] - 2s 2ms/step - loss: 5.3898e-04 - mae: 0.0174 - val_loss: 4.2123e-04 - val_mae: 0.0155\n",
      "Epoch 49/100\n",
      "1224/1224 [==============================] - 2s 2ms/step - loss: 5.2074e-04 - mae: 0.0170 - val_loss: 4.8690e-04 - val_mae: 0.0173\n",
      "Epoch 50/100\n",
      "1224/1224 [==============================] - 2s 2ms/step - loss: 4.8892e-04 - mae: 0.0164 - val_loss: 4.0177e-04 - val_mae: 0.0151\n",
      "Epoch 51/100\n",
      "1224/1224 [==============================] - 2s 2ms/step - loss: 4.7145e-04 - mae: 0.0160 - val_loss: 3.8633e-04 - val_mae: 0.0147\n",
      "Epoch 52/100\n",
      "1224/1224 [==============================] - 2s 2ms/step - loss: 4.5266e-04 - mae: 0.0156 - val_loss: 3.7065e-04 - val_mae: 0.0144\n",
      "Epoch 53/100\n",
      "1224/1224 [==============================] - 2s 2ms/step - loss: 4.4471e-04 - mae: 0.0155 - val_loss: 3.6451e-04 - val_mae: 0.0143\n",
      "Epoch 54/100\n",
      "1224/1224 [==============================] - 2s 2ms/step - loss: 4.4762e-04 - mae: 0.0157 - val_loss: 3.6767e-04 - val_mae: 0.0145\n",
      "Epoch 55/100\n",
      "1224/1224 [==============================] - 2s 2ms/step - loss: 4.2968e-04 - mae: 0.0153 - val_loss: 3.8205e-04 - val_mae: 0.0151\n",
      "Epoch 56/100\n",
      "1224/1224 [==============================] - 2s 2ms/step - loss: 4.2125e-04 - mae: 0.0151 - val_loss: 3.4630e-04 - val_mae: 0.0141\n",
      "Epoch 57/100\n",
      "1224/1224 [==============================] - 2s 2ms/step - loss: 4.1414e-04 - mae: 0.0150 - val_loss: 3.4446e-04 - val_mae: 0.0141\n",
      "Epoch 58/100\n"
     ]
    },
    {
     "name": "stdout",
     "output_type": "stream",
     "text": [
      "1224/1224 [==============================] - 2s 2ms/step - loss: 4.1053e-04 - mae: 0.0149 - val_loss: 3.7262e-04 - val_mae: 0.0151\n",
      "Epoch 59/100\n",
      "1224/1224 [==============================] - 2s 2ms/step - loss: 4.2951e-04 - mae: 0.0154 - val_loss: 3.4249e-04 - val_mae: 0.0142\n",
      "Epoch 60/100\n",
      "1224/1224 [==============================] - 2s 2ms/step - loss: 4.2761e-04 - mae: 0.0152 - val_loss: 3.3720e-04 - val_mae: 0.0141\n",
      "Epoch 61/100\n",
      "1224/1224 [==============================] - 2s 2ms/step - loss: 3.9407e-04 - mae: 0.0147 - val_loss: 3.4055e-04 - val_mae: 0.0143\n",
      "Epoch 62/100\n",
      "1224/1224 [==============================] - 2s 2ms/step - loss: 4.3150e-04 - mae: 0.0155 - val_loss: 3.3302e-04 - val_mae: 0.0142\n",
      "Epoch 63/100\n",
      "1224/1224 [==============================] - 2s 2ms/step - loss: 4.0985e-04 - mae: 0.0151 - val_loss: 3.2390e-04 - val_mae: 0.0139\n",
      "Epoch 64/100\n",
      "1224/1224 [==============================] - 2s 2ms/step - loss: 3.8325e-04 - mae: 0.0145 - val_loss: 3.4710e-04 - val_mae: 0.0148\n",
      "Epoch 65/100\n",
      "1224/1224 [==============================] - 2s 2ms/step - loss: 3.7757e-04 - mae: 0.0143 - val_loss: 3.1603e-04 - val_mae: 0.0136\n",
      "Epoch 66/100\n",
      "1224/1224 [==============================] - 2s 2ms/step - loss: 3.7536e-04 - mae: 0.0144 - val_loss: 3.1603e-04 - val_mae: 0.0137\n",
      "Epoch 67/100\n",
      "1224/1224 [==============================] - 2s 2ms/step - loss: 3.7676e-04 - mae: 0.0143 - val_loss: 3.1667e-04 - val_mae: 0.0139\n",
      "Epoch 68/100\n",
      "1224/1224 [==============================] - 2s 2ms/step - loss: 3.7590e-04 - mae: 0.0142 - val_loss: 3.0868e-04 - val_mae: 0.0136\n",
      "Epoch 69/100\n",
      "1224/1224 [==============================] - 2s 2ms/step - loss: 3.7783e-04 - mae: 0.0143 - val_loss: 3.4343e-04 - val_mae: 0.0142\n",
      "Epoch 70/100\n",
      "1224/1224 [==============================] - 2s 2ms/step - loss: 4.0780e-04 - mae: 0.0150 - val_loss: 3.7104e-04 - val_mae: 0.0156\n",
      "Epoch 71/100\n",
      "1224/1224 [==============================] - 2s 2ms/step - loss: 3.7764e-04 - mae: 0.0144 - val_loss: 3.0820e-04 - val_mae: 0.0136\n",
      "Epoch 72/100\n",
      "1224/1224 [==============================] - 2s 2ms/step - loss: 3.7808e-04 - mae: 0.0143 - val_loss: 3.1491e-04 - val_mae: 0.0136\n",
      "Epoch 73/100\n",
      "1224/1224 [==============================] - 2s 2ms/step - loss: 3.7052e-04 - mae: 0.0143 - val_loss: 3.9151e-04 - val_mae: 0.0161\n",
      "Epoch 74/100\n",
      "1224/1224 [==============================] - 2s 2ms/step - loss: 3.7432e-04 - mae: 0.0144 - val_loss: 3.0735e-04 - val_mae: 0.0137\n",
      "Epoch 75/100\n",
      "1224/1224 [==============================] - 2s 2ms/step - loss: 3.5282e-04 - mae: 0.0138 - val_loss: 3.0622e-04 - val_mae: 0.0137\n",
      "Epoch 76/100\n",
      "1224/1224 [==============================] - 2s 2ms/step - loss: 3.5558e-04 - mae: 0.0139 - val_loss: 3.0381e-04 - val_mae: 0.0137\n",
      "Epoch 77/100\n",
      "1224/1224 [==============================] - 2s 2ms/step - loss: 3.7043e-04 - mae: 0.0143 - val_loss: 3.1184e-04 - val_mae: 0.0140\n",
      "Epoch 78/100\n",
      "1224/1224 [==============================] - 2s 2ms/step - loss: 3.4534e-04 - mae: 0.0137 - val_loss: 3.0112e-04 - val_mae: 0.0135\n",
      "Epoch 79/100\n",
      "1224/1224 [==============================] - 2s 2ms/step - loss: 3.5181e-04 - mae: 0.0139 - val_loss: 3.3917e-04 - val_mae: 0.0149\n",
      "Epoch 80/100\n",
      "1224/1224 [==============================] - 2s 2ms/step - loss: 3.5542e-04 - mae: 0.0139 - val_loss: 3.2018e-04 - val_mae: 0.0143\n",
      "Epoch 81/100\n",
      "1224/1224 [==============================] - 2s 2ms/step - loss: 3.5930e-04 - mae: 0.0141 - val_loss: 3.0841e-04 - val_mae: 0.0137\n",
      "Epoch 82/100\n",
      "1224/1224 [==============================] - 2s 2ms/step - loss: 3.6603e-04 - mae: 0.0144 - val_loss: 3.6168e-04 - val_mae: 0.0156\n",
      "Epoch 83/100\n",
      "1224/1224 [==============================] - 2s 2ms/step - loss: 3.6044e-04 - mae: 0.0140 - val_loss: 3.2380e-04 - val_mae: 0.0144\n",
      "Epoch 84/100\n",
      "1224/1224 [==============================] - 2s 2ms/step - loss: 3.4663e-04 - mae: 0.0138 - val_loss: 3.1300e-04 - val_mae: 0.0137\n",
      "Epoch 85/100\n",
      "1224/1224 [==============================] - 2s 2ms/step - loss: 3.5455e-04 - mae: 0.0140 - val_loss: 2.9944e-04 - val_mae: 0.0134\n",
      "Epoch 86/100\n",
      "1224/1224 [==============================] - 2s 2ms/step - loss: 3.6428e-04 - mae: 0.0142 - val_loss: 3.4961e-04 - val_mae: 0.0153\n",
      "Epoch 87/100\n",
      "1224/1224 [==============================] - 3s 3ms/step - loss: 3.7825e-04 - mae: 0.0145 - val_loss: 3.7539e-04 - val_mae: 0.0158\n",
      "Epoch 88/100\n",
      "1224/1224 [==============================] - 3s 2ms/step - loss: 3.7592e-04 - mae: 0.0145 - val_loss: 2.9701e-04 - val_mae: 0.0134\n",
      "Epoch 89/100\n",
      "1224/1224 [==============================] - 3s 3ms/step - loss: 3.3765e-04 - mae: 0.0135 - val_loss: 2.9679e-04 - val_mae: 0.0135\n",
      "Epoch 90/100\n",
      "1224/1224 [==============================] - 3s 3ms/step - loss: 3.5128e-04 - mae: 0.0139 - val_loss: 3.0843e-04 - val_mae: 0.0140\n",
      "Epoch 91/100\n",
      "1224/1224 [==============================] - 3s 3ms/step - loss: 3.5370e-04 - mae: 0.0139 - val_loss: 2.9699e-04 - val_mae: 0.0135\n",
      "Epoch 92/100\n",
      "1224/1224 [==============================] - 3s 3ms/step - loss: 3.5081e-04 - mae: 0.0138 - val_loss: 2.9751e-04 - val_mae: 0.0136\n",
      "Epoch 93/100\n",
      "1224/1224 [==============================] - 3s 3ms/step - loss: 3.5394e-04 - mae: 0.0138 - val_loss: 2.9357e-04 - val_mae: 0.0134\n",
      "Epoch 94/100\n",
      "1224/1224 [==============================] - 4s 3ms/step - loss: 3.4112e-04 - mae: 0.0137 - val_loss: 2.9535e-04 - val_mae: 0.0133\n",
      "Epoch 95/100\n",
      "1224/1224 [==============================] - 3s 3ms/step - loss: 3.4066e-04 - mae: 0.0137 - val_loss: 3.3819e-04 - val_mae: 0.0149\n",
      "Epoch 96/100\n",
      "1224/1224 [==============================] - 3s 3ms/step - loss: 3.7331e-04 - mae: 0.0143 - val_loss: 4.0844e-04 - val_mae: 0.0159\n",
      "Epoch 97/100\n",
      "1224/1224 [==============================] - 3s 3ms/step - loss: 4.8625e-04 - mae: 0.0169 - val_loss: 3.0594e-04 - val_mae: 0.0135\n",
      "Epoch 98/100\n",
      "1224/1224 [==============================] - 3s 3ms/step - loss: 3.7776e-04 - mae: 0.0144 - val_loss: 3.9349e-04 - val_mae: 0.0163\n",
      "Epoch 99/100\n",
      "1224/1224 [==============================] - 3s 3ms/step - loss: 3.8026e-04 - mae: 0.0145 - val_loss: 2.9582e-04 - val_mae: 0.0133\n",
      "Epoch 100/100\n",
      "1224/1224 [==============================] - 3s 3ms/step - loss: 3.3965e-04 - mae: 0.0135 - val_loss: 3.0038e-04 - val_mae: 0.0137\n"
     ]
    }
   ],
   "source": [
    "model.compile(loss='mean_squared_error', optimizer='adam', metrics = ['mae'])\n",
    "history = model.fit(x_train, y_train, epochs=100, batch_size=128, verbose=1, validation_split = 0.15)"
   ]
  },
  {
   "cell_type": "code",
   "execution_count": 11,
   "metadata": {},
   "outputs": [
    {
     "name": "stdout",
     "output_type": "stream",
     "text": [
      "Model: \"sequential_2\"\n",
      "_________________________________________________________________\n",
      "Layer (type)                 Output Shape              Param #   \n",
      "=================================================================\n",
      "dense_4 (Dense)              (None, 60, 20)            40        \n",
      "_________________________________________________________________\n",
      "dense_5 (Dense)              (None, 60, 10)            210       \n",
      "_________________________________________________________________\n",
      "conv1d_2 (Conv1D)            (None, 60, 32)            992       \n",
      "_________________________________________________________________\n",
      "bidirectional_2 (Bidirection (None, 64)                16640     \n",
      "_________________________________________________________________\n",
      "dense_6 (Dense)              (None, 1)                 65        \n",
      "=================================================================\n",
      "Total params: 17,947\n",
      "Trainable params: 17,947\n",
      "Non-trainable params: 0\n",
      "_________________________________________________________________\n"
     ]
    }
   ],
   "source": [
    "model.summary()"
   ]
  },
  {
   "cell_type": "markdown",
   "metadata": {},
   "source": [
    "#### Test set"
   ]
  },
  {
   "cell_type": "code",
   "execution_count": 12,
   "metadata": {},
   "outputs": [],
   "source": [
    "inputs = pg[len(pg) - len(valid) - 60:].values\n",
    "inputs = inputs.reshape(-1,1)\n",
    "inputs  = scaler.transform(inputs)\n",
    "X_test = []\n",
    "for i in range(60,inputs.shape[0]):\n",
    "    X_test.append(inputs[i-60:i,0])\n",
    "X_test = np.array(X_test)\n",
    "X_test = np.reshape(X_test, (X_test.shape[0],X_test.shape[1],1))\n",
    "closing_price = model.predict(X_test)\n",
    "closing_price = scaler.inverse_transform(closing_price)"
   ]
  },
  {
   "cell_type": "markdown",
   "metadata": {},
   "source": [
    "#### ROOT MEAN SQUARED ERROR"
   ]
  },
  {
   "cell_type": "code",
   "execution_count": 13,
   "metadata": {},
   "outputs": [
    {
     "data": {
      "text/plain": [
       "0.8966709773085108"
      ]
     },
     "execution_count": 13,
     "metadata": {},
     "output_type": "execute_result"
    }
   ],
   "source": [
    "rms=np.sqrt(np.mean(np.power((valid-closing_price),2)))\n",
    "rms"
   ]
  },
  {
   "cell_type": "markdown",
   "metadata": {},
   "source": [
    "#### MEAN ABSOLUTE ERROR"
   ]
  },
  {
   "cell_type": "code",
   "execution_count": 14,
   "metadata": {},
   "outputs": [
    {
     "data": {
      "text/plain": [
       "0.6661870749152964"
      ]
     },
     "execution_count": 14,
     "metadata": {},
     "output_type": "execute_result"
    }
   ],
   "source": [
    "mae=(np.mean(abs(valid-closing_price)))\n",
    "mae"
   ]
  },
  {
   "cell_type": "code",
   "execution_count": 15,
   "metadata": {},
   "outputs": [
    {
     "name": "stderr",
     "output_type": "stream",
     "text": [
      "/Users/subhamgupta/anaconda3/lib/python3.7/site-packages/ipykernel_launcher.py:3: SettingWithCopyWarning: \n",
      "A value is trying to be set on a copy of a slice from a DataFrame.\n",
      "Try using .loc[row_indexer,col_indexer] = value instead\n",
      "\n",
      "See the caveats in the documentation: http://pandas.pydata.org/pandas-docs/stable/user_guide/indexing.html#returning-a-view-versus-a-copy\n",
      "  This is separate from the ipykernel package so we can avoid doing imports until\n"
     ]
    },
    {
     "data": {
      "text/plain": [
       "<matplotlib.legend.Legend at 0x1a61263d90>"
      ]
     },
     "execution_count": 15,
     "metadata": {},
     "output_type": "execute_result"
    },
    {
     "data": {
      "image/png": "[encoded data removed]",
      "text/plain": [
       "<Figure size 1152x576 with 1 Axes>"
      ]
     },
     "metadata": {
      "needs_background": "light"
     },
     "output_type": "display_data"
    }
   ],
   "source": [
    "train = pg[:1500]\n",
    "valid = pg[1500:]\n",
    "valid['Predictions'] = closing_price\n",
    "plt.figure(figsize=(16,8))\n",
    "plt.plot(valid[['close','Predictions']]) # predictions over test set\n",
    "plt.legend(['Real', 'Predicted'])"
   ]
  },
  {
   "cell_type": "code",
   "execution_count": 16,
   "metadata": {},
   "outputs": [],
   "source": [
    "s = pg[len(pg) - 60:].values\n",
    "s = s.reshape(-1,1)\n",
    "s = scaler.transform(s)"
   ]
  },
  {
   "cell_type": "code",
   "execution_count": 17,
   "metadata": {},
   "outputs": [
    {
     "data": {
      "text/plain": [
       "array([[54.15513]], dtype=float32)"
      ]
     },
     "execution_count": 17,
     "metadata": {},
     "output_type": "execute_result"
    }
   ],
   "source": [
    "s = np.reshape(s, (s.shape[1],s.shape[0],1))\n",
    "closing_price = model.predict(s)\n",
    "closing_price = scaler.inverse_transform(closing_price)\n",
    "closing_price # next day closing price"
   ]
  }
 ],
 "metadata": {
  "kernelspec": {
   "display_name": "Python 3",
   "language": "python",
   "name": "python3"
  },
  "language_info": {
   "codemirror_mode": {
    "name": "ipython",
    "version": 3
   },
   "file_extension": ".py",
   "mimetype": "text/x-python",
   "name": "python",
   "nbconvert_exporter": "python",
   "pygments_lexer": "ipython3",
   "version": "3.7.4"
  }
 },
 "nbformat": 4,
 "nbformat_minor": 2
}
